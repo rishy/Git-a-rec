{
 "cells": [
  {
   "cell_type": "code",
   "execution_count": 1,
   "metadata": {
    "collapsed": true,
    "scrolled": true
   },
   "outputs": [],
   "source": [
    "import pandas as pd\n",
    "import numpy as np"
   ]
  },
  {
   "cell_type": "code",
   "execution_count": null,
   "metadata": {
    "collapsed": true
   },
   "outputs": [],
   "source": [
    "df1_similarity = pd.read_csv(\"../Dataset/small/similarity-output/part-00000\", names = [\"user_x\", \"user_y\"])"
   ]
  },
  {
   "cell_type": "code",
   "execution_count": 7,
   "metadata": {
    "collapsed": false
   },
   "outputs": [
    {
     "data": {
      "text/html": [
       "<div style=\"max-height:1000px;max-width:1500px;overflow:auto;\">\n",
       "<table border=\"1\" class=\"dataframe\">\n",
       "  <thead>\n",
       "    <tr style=\"text-align: right;\">\n",
       "      <th></th>\n",
       "      <th>782</th>\n",
       "      <th>2125</th>\n",
       "      <th>0.272</th>\n",
       "    </tr>\n",
       "  </thead>\n",
       "  <tbody>\n",
       "    <tr>\n",
       "      <th>0</th>\n",
       "      <td>9323</td>\n",
       "      <td>10169</td>\n",
       "      <td>0.577</td>\n",
       "    </tr>\n",
       "    <tr>\n",
       "      <th>1</th>\n",
       "      <td>1007</td>\n",
       "      <td>8664</td>\n",
       "      <td>0.998</td>\n",
       "    </tr>\n",
       "    <tr>\n",
       "      <th>2</th>\n",
       "      <td>4920</td>\n",
       "      <td>6626</td>\n",
       "      <td>0.044</td>\n",
       "    </tr>\n",
       "    <tr>\n",
       "      <th>3</th>\n",
       "      <td>3677</td>\n",
       "      <td>10431</td>\n",
       "      <td>0.253</td>\n",
       "    </tr>\n",
       "    <tr>\n",
       "      <th>4</th>\n",
       "      <td>3647</td>\n",
       "      <td>7712</td>\n",
       "      <td>0.788</td>\n",
       "    </tr>\n",
       "  </tbody>\n",
       "</table>\n",
       "</div>"
      ],
      "text/plain": [
       "    782   2125  0.272\n",
       "0  9323  10169  0.577\n",
       "1  1007   8664  0.998\n",
       "2  4920   6626  0.044\n",
       "3  3677  10431  0.253\n",
       "4  3647   7712  0.788"
      ]
     },
     "execution_count": 7,
     "metadata": {},
     "output_type": "execute_result"
    }
   ],
   "source": [
    "df1_similarity.head()"
   ]
  },
  {
   "cell_type": "code",
   "execution_count": 3,
   "metadata": {
    "collapsed": true
   },
   "outputs": [],
   "source": [
    "df2_similarity = pd.read_csv(\"../Dataset/small/similarity-output/part-00001\")"
   ]
  },
  {
   "cell_type": "code",
   "execution_count": 5,
   "metadata": {
    "collapsed": false
   },
   "outputs": [],
   "source": [
    "user_user_similarity = df1_similarity.append(df2_similarity) "
   ]
  },
  {
   "cell_type": "code",
   "execution_count": 6,
   "metadata": {
    "collapsed": false
   },
   "outputs": [
    {
     "data": {
      "text/html": [
       "<div style=\"max-height:1000px;max-width:1500px;overflow:auto;\">\n",
       "<table border=\"1\" class=\"dataframe\">\n",
       "  <thead>\n",
       "    <tr style=\"text-align: right;\">\n",
       "      <th></th>\n",
       "      <th>0.262</th>\n",
       "      <th>0.272</th>\n",
       "      <th>10704</th>\n",
       "      <th>2125</th>\n",
       "      <th>782</th>\n",
       "      <th>8991</th>\n",
       "    </tr>\n",
       "  </thead>\n",
       "  <tbody>\n",
       "    <tr>\n",
       "      <th>0</th>\n",
       "      <td>NaN</td>\n",
       "      <td>0.577</td>\n",
       "      <td>NaN</td>\n",
       "      <td>10169</td>\n",
       "      <td>9323</td>\n",
       "      <td>NaN</td>\n",
       "    </tr>\n",
       "    <tr>\n",
       "      <th>1</th>\n",
       "      <td>NaN</td>\n",
       "      <td>0.998</td>\n",
       "      <td>NaN</td>\n",
       "      <td>8664</td>\n",
       "      <td>1007</td>\n",
       "      <td>NaN</td>\n",
       "    </tr>\n",
       "    <tr>\n",
       "      <th>2</th>\n",
       "      <td>NaN</td>\n",
       "      <td>0.044</td>\n",
       "      <td>NaN</td>\n",
       "      <td>6626</td>\n",
       "      <td>4920</td>\n",
       "      <td>NaN</td>\n",
       "    </tr>\n",
       "    <tr>\n",
       "      <th>3</th>\n",
       "      <td>NaN</td>\n",
       "      <td>0.253</td>\n",
       "      <td>NaN</td>\n",
       "      <td>10431</td>\n",
       "      <td>3677</td>\n",
       "      <td>NaN</td>\n",
       "    </tr>\n",
       "    <tr>\n",
       "      <th>4</th>\n",
       "      <td>NaN</td>\n",
       "      <td>0.788</td>\n",
       "      <td>NaN</td>\n",
       "      <td>7712</td>\n",
       "      <td>3647</td>\n",
       "      <td>NaN</td>\n",
       "    </tr>\n",
       "  </tbody>\n",
       "</table>\n",
       "</div>"
      ],
      "text/plain": [
       "   0.262  0.272  10704   2125   782  8991\n",
       "0    NaN  0.577    NaN  10169  9323   NaN\n",
       "1    NaN  0.998    NaN   8664  1007   NaN\n",
       "2    NaN  0.044    NaN   6626  4920   NaN\n",
       "3    NaN  0.253    NaN  10431  3677   NaN\n",
       "4    NaN  0.788    NaN   7712  3647   NaN"
      ]
     },
     "execution_count": 6,
     "metadata": {},
     "output_type": "execute_result"
    }
   ],
   "source": [
    "user_user_similarity.head()"
   ]
  },
  {
   "cell_type": "code",
   "execution_count": 2,
   "metadata": {
    "collapsed": true,
    "scrolled": true
   },
   "outputs": [],
   "source": [
    "user_repos = pd.read_csv(\"../Dataset/small/users_repos.csv\")"
   ]
  },
  {
   "cell_type": "code",
   "execution_count": 3,
   "metadata": {
    "collapsed": false,
    "scrolled": true
   },
   "outputs": [
    {
     "data": {
      "text/html": [
       "<div style=\"max-height:1000px;max-width:1500px;overflow:auto;\">\n",
       "<table border=\"1\" class=\"dataframe\">\n",
       "  <thead>\n",
       "    <tr style=\"text-align: right;\">\n",
       "      <th></th>\n",
       "      <th>login</th>\n",
       "      <th>full_name</th>\n",
       "      <th>watchers</th>\n",
       "      <th>forks</th>\n",
       "      <th>followers</th>\n",
       "      <th>following</th>\n",
       "      <th>fork</th>\n",
       "    </tr>\n",
       "  </thead>\n",
       "  <tbody>\n",
       "    <tr>\n",
       "      <th>0</th>\n",
       "      <td>00010011</td>\n",
       "      <td>00010011/x</td>\n",
       "      <td>60</td>\n",
       "      <td>60</td>\n",
       "      <td>20</td>\n",
       "      <td>0</td>\n",
       "      <td>False</td>\n",
       "    </tr>\n",
       "    <tr>\n",
       "      <th>1</th>\n",
       "      <td>00010011</td>\n",
       "      <td>00010011/landslide</td>\n",
       "      <td>9</td>\n",
       "      <td>3</td>\n",
       "      <td>20</td>\n",
       "      <td>0</td>\n",
       "      <td>True</td>\n",
       "    </tr>\n",
       "    <tr>\n",
       "      <th>2</th>\n",
       "      <td>00010011</td>\n",
       "      <td>00010011/sundown</td>\n",
       "      <td>1</td>\n",
       "      <td>0</td>\n",
       "      <td>20</td>\n",
       "      <td>0</td>\n",
       "      <td>True</td>\n",
       "    </tr>\n",
       "    <tr>\n",
       "      <th>3</th>\n",
       "      <td>00010011</td>\n",
       "      <td>00010011/python-markdown-extra</td>\n",
       "      <td>0</td>\n",
       "      <td>0</td>\n",
       "      <td>20</td>\n",
       "      <td>0</td>\n",
       "      <td>False</td>\n",
       "    </tr>\n",
       "    <tr>\n",
       "      <th>4</th>\n",
       "      <td>01org</td>\n",
       "      <td>01org/graphbuilder</td>\n",
       "      <td>44</td>\n",
       "      <td>5</td>\n",
       "      <td>1</td>\n",
       "      <td>0</td>\n",
       "      <td>False</td>\n",
       "    </tr>\n",
       "  </tbody>\n",
       "</table>\n",
       "</div>"
      ],
      "text/plain": [
       "      login                       full_name  watchers  forks  followers  \\\n",
       "0  00010011                      00010011/x        60     60         20   \n",
       "1  00010011              00010011/landslide         9      3         20   \n",
       "2  00010011                00010011/sundown         1      0         20   \n",
       "3  00010011  00010011/python-markdown-extra         0      0         20   \n",
       "4     01org              01org/graphbuilder        44      5          1   \n",
       "\n",
       "   following   fork  \n",
       "0          0  False  \n",
       "1          0   True  \n",
       "2          0   True  \n",
       "3          0  False  \n",
       "4          0  False  "
      ]
     },
     "execution_count": 3,
     "metadata": {},
     "output_type": "execute_result"
    }
   ],
   "source": [
    "user_repos.head()"
   ]
  },
  {
   "cell_type": "code",
   "execution_count": 4,
   "metadata": {
    "collapsed": true,
    "scrolled": true
   },
   "outputs": [],
   "source": [
    "user_repos.fork = np.invert(user_repos.fork)\n",
    "user_repos.fork = user_repos.fork.astype('int')"
   ]
  },
  {
   "cell_type": "code",
   "execution_count": 5,
   "metadata": {
    "collapsed": false,
    "scrolled": true
   },
   "outputs": [
    {
     "data": {
      "text/html": [
       "<div style=\"max-height:1000px;max-width:1500px;overflow:auto;\">\n",
       "<table border=\"1\" class=\"dataframe\">\n",
       "  <thead>\n",
       "    <tr style=\"text-align: right;\">\n",
       "      <th></th>\n",
       "      <th>login</th>\n",
       "      <th>full_name</th>\n",
       "      <th>watchers</th>\n",
       "      <th>forks</th>\n",
       "      <th>followers</th>\n",
       "      <th>following</th>\n",
       "      <th>fork</th>\n",
       "    </tr>\n",
       "  </thead>\n",
       "  <tbody>\n",
       "    <tr>\n",
       "      <th>0</th>\n",
       "      <td>00010011</td>\n",
       "      <td>00010011/x</td>\n",
       "      <td>60</td>\n",
       "      <td>60</td>\n",
       "      <td>20</td>\n",
       "      <td>0</td>\n",
       "      <td>1</td>\n",
       "    </tr>\n",
       "    <tr>\n",
       "      <th>1</th>\n",
       "      <td>00010011</td>\n",
       "      <td>00010011/landslide</td>\n",
       "      <td>9</td>\n",
       "      <td>3</td>\n",
       "      <td>20</td>\n",
       "      <td>0</td>\n",
       "      <td>0</td>\n",
       "    </tr>\n",
       "    <tr>\n",
       "      <th>2</th>\n",
       "      <td>00010011</td>\n",
       "      <td>00010011/sundown</td>\n",
       "      <td>1</td>\n",
       "      <td>0</td>\n",
       "      <td>20</td>\n",
       "      <td>0</td>\n",
       "      <td>0</td>\n",
       "    </tr>\n",
       "    <tr>\n",
       "      <th>3</th>\n",
       "      <td>00010011</td>\n",
       "      <td>00010011/python-markdown-extra</td>\n",
       "      <td>0</td>\n",
       "      <td>0</td>\n",
       "      <td>20</td>\n",
       "      <td>0</td>\n",
       "      <td>1</td>\n",
       "    </tr>\n",
       "    <tr>\n",
       "      <th>4</th>\n",
       "      <td>01org</td>\n",
       "      <td>01org/graphbuilder</td>\n",
       "      <td>44</td>\n",
       "      <td>5</td>\n",
       "      <td>1</td>\n",
       "      <td>0</td>\n",
       "      <td>1</td>\n",
       "    </tr>\n",
       "  </tbody>\n",
       "</table>\n",
       "</div>"
      ],
      "text/plain": [
       "      login                       full_name  watchers  forks  followers  \\\n",
       "0  00010011                      00010011/x        60     60         20   \n",
       "1  00010011              00010011/landslide         9      3         20   \n",
       "2  00010011                00010011/sundown         1      0         20   \n",
       "3  00010011  00010011/python-markdown-extra         0      0         20   \n",
       "4     01org              01org/graphbuilder        44      5          1   \n",
       "\n",
       "   following  fork  \n",
       "0          0     1  \n",
       "1          0     0  \n",
       "2          0     0  \n",
       "3          0     1  \n",
       "4          0     1  "
      ]
     },
     "execution_count": 5,
     "metadata": {},
     "output_type": "execute_result"
    }
   ],
   "source": [
    "user_repos.head()"
   ]
  },
  {
   "cell_type": "code",
   "execution_count": 6,
   "metadata": {
    "collapsed": false,
    "scrolled": true
   },
   "outputs": [],
   "source": [
    "user_repos.loc[:,\"watchers\":\"following\"] = user_repos.loc[:,\"watchers\":\"following\"].\\\n",
    "                                                apply(lambda x: (x-min(x))/(max(x)-min(x)))"
   ]
  },
  {
   "cell_type": "code",
   "execution_count": 7,
   "metadata": {
    "collapsed": false,
    "scrolled": true
   },
   "outputs": [
    {
     "data": {
      "text/html": [
       "<div style=\"max-height:1000px;max-width:1500px;overflow:auto;\">\n",
       "<table border=\"1\" class=\"dataframe\">\n",
       "  <thead>\n",
       "    <tr style=\"text-align: right;\">\n",
       "      <th></th>\n",
       "      <th>login</th>\n",
       "      <th>full_name</th>\n",
       "      <th>watchers</th>\n",
       "      <th>forks</th>\n",
       "      <th>followers</th>\n",
       "      <th>following</th>\n",
       "      <th>fork</th>\n",
       "    </tr>\n",
       "  </thead>\n",
       "  <tbody>\n",
       "    <tr>\n",
       "      <th>0</th>\n",
       "      <td>00010011</td>\n",
       "      <td>00010011/x</td>\n",
       "      <td>0.001769</td>\n",
       "      <td>0.007919</td>\n",
       "      <td>0.001591</td>\n",
       "      <td>0</td>\n",
       "      <td>1</td>\n",
       "    </tr>\n",
       "    <tr>\n",
       "      <th>1</th>\n",
       "      <td>00010011</td>\n",
       "      <td>00010011/landslide</td>\n",
       "      <td>0.000290</td>\n",
       "      <td>0.000396</td>\n",
       "      <td>0.001591</td>\n",
       "      <td>0</td>\n",
       "      <td>0</td>\n",
       "    </tr>\n",
       "    <tr>\n",
       "      <th>2</th>\n",
       "      <td>00010011</td>\n",
       "      <td>00010011/sundown</td>\n",
       "      <td>0.000058</td>\n",
       "      <td>0.000000</td>\n",
       "      <td>0.001591</td>\n",
       "      <td>0</td>\n",
       "      <td>0</td>\n",
       "    </tr>\n",
       "    <tr>\n",
       "      <th>3</th>\n",
       "      <td>00010011</td>\n",
       "      <td>00010011/python-markdown-extra</td>\n",
       "      <td>0.000029</td>\n",
       "      <td>0.000000</td>\n",
       "      <td>0.001591</td>\n",
       "      <td>0</td>\n",
       "      <td>1</td>\n",
       "    </tr>\n",
       "    <tr>\n",
       "      <th>4</th>\n",
       "      <td>01org</td>\n",
       "      <td>01org/graphbuilder</td>\n",
       "      <td>0.001305</td>\n",
       "      <td>0.000660</td>\n",
       "      <td>0.000080</td>\n",
       "      <td>0</td>\n",
       "      <td>1</td>\n",
       "    </tr>\n",
       "  </tbody>\n",
       "</table>\n",
       "</div>"
      ],
      "text/plain": [
       "      login                       full_name  watchers     forks  followers  \\\n",
       "0  00010011                      00010011/x  0.001769  0.007919   0.001591   \n",
       "1  00010011              00010011/landslide  0.000290  0.000396   0.001591   \n",
       "2  00010011                00010011/sundown  0.000058  0.000000   0.001591   \n",
       "3  00010011  00010011/python-markdown-extra  0.000029  0.000000   0.001591   \n",
       "4     01org              01org/graphbuilder  0.001305  0.000660   0.000080   \n",
       "\n",
       "   following  fork  \n",
       "0          0     1  \n",
       "1          0     0  \n",
       "2          0     0  \n",
       "3          0     1  \n",
       "4          0     1  "
      ]
     },
     "execution_count": 7,
     "metadata": {},
     "output_type": "execute_result"
    }
   ],
   "source": [
    "user_repos.head()"
   ]
  },
  {
   "cell_type": "code",
   "execution_count": 8,
   "metadata": {
    "collapsed": true,
    "scrolled": true
   },
   "outputs": [],
   "source": [
    "user_repos[\"bias_score\"] = user_repos.watchers + user_repos.forks + user_repos.followers + user_repos.following + \\\n",
    "                           user_repos.fork"
   ]
  },
  {
   "cell_type": "code",
   "execution_count": 9,
   "metadata": {
    "collapsed": false,
    "scrolled": true
   },
   "outputs": [
    {
     "data": {
      "text/html": [
       "<div style=\"max-height:1000px;max-width:1500px;overflow:auto;\">\n",
       "<table border=\"1\" class=\"dataframe\">\n",
       "  <thead>\n",
       "    <tr style=\"text-align: right;\">\n",
       "      <th></th>\n",
       "      <th>login</th>\n",
       "      <th>full_name</th>\n",
       "      <th>watchers</th>\n",
       "      <th>forks</th>\n",
       "      <th>followers</th>\n",
       "      <th>following</th>\n",
       "      <th>fork</th>\n",
       "      <th>bias_score</th>\n",
       "    </tr>\n",
       "  </thead>\n",
       "  <tbody>\n",
       "    <tr>\n",
       "      <th>110443</th>\n",
       "      <td>twitter</td>\n",
       "      <td>twitter/bootstrap</td>\n",
       "      <td>1.000000</td>\n",
       "      <td>0.941270</td>\n",
       "      <td>0.037538</td>\n",
       "      <td>0</td>\n",
       "      <td>1</td>\n",
       "      <td>2.978807</td>\n",
       "    </tr>\n",
       "    <tr>\n",
       "      <th>4685</th>\n",
       "      <td>Homebrew</td>\n",
       "      <td>Homebrew/homebrew</td>\n",
       "      <td>0.435897</td>\n",
       "      <td>1.000000</td>\n",
       "      <td>0.000000</td>\n",
       "      <td>0</td>\n",
       "      <td>1</td>\n",
       "      <td>2.435897</td>\n",
       "    </tr>\n",
       "    <tr>\n",
       "      <th>27374</th>\n",
       "      <td>chovy</td>\n",
       "      <td>chovy/node-startup</td>\n",
       "      <td>0.001885</td>\n",
       "      <td>0.000132</td>\n",
       "      <td>0.083983</td>\n",
       "      <td>1</td>\n",
       "      <td>1</td>\n",
       "      <td>2.086000</td>\n",
       "    </tr>\n",
       "    <tr>\n",
       "      <th>27375</th>\n",
       "      <td>chovy</td>\n",
       "      <td>chovy/tabbed-navigation</td>\n",
       "      <td>0.000812</td>\n",
       "      <td>0.000792</td>\n",
       "      <td>0.083983</td>\n",
       "      <td>1</td>\n",
       "      <td>1</td>\n",
       "      <td>2.085587</td>\n",
       "    </tr>\n",
       "    <tr>\n",
       "      <th>27377</th>\n",
       "      <td>chovy</td>\n",
       "      <td>chovy/nodejs-stream</td>\n",
       "      <td>0.000754</td>\n",
       "      <td>0.000792</td>\n",
       "      <td>0.083983</td>\n",
       "      <td>1</td>\n",
       "      <td>1</td>\n",
       "      <td>2.085529</td>\n",
       "    </tr>\n",
       "  </tbody>\n",
       "</table>\n",
       "</div>"
      ],
      "text/plain": [
       "           login                full_name  watchers     forks  followers  \\\n",
       "110443   twitter        twitter/bootstrap  1.000000  0.941270   0.037538   \n",
       "4685    Homebrew        Homebrew/homebrew  0.435897  1.000000   0.000000   \n",
       "27374      chovy       chovy/node-startup  0.001885  0.000132   0.083983   \n",
       "27375      chovy  chovy/tabbed-navigation  0.000812  0.000792   0.083983   \n",
       "27377      chovy      chovy/nodejs-stream  0.000754  0.000792   0.083983   \n",
       "\n",
       "        following  fork  bias_score  \n",
       "110443          0     1    2.978807  \n",
       "4685            0     1    2.435897  \n",
       "27374           1     1    2.086000  \n",
       "27375           1     1    2.085587  \n",
       "27377           1     1    2.085529  "
      ]
     },
     "execution_count": 9,
     "metadata": {},
     "output_type": "execute_result"
    }
   ],
   "source": [
    "user_repos.sort(columns=[\"bias_score\"], ascending=False).head()"
   ]
  },
  {
   "cell_type": "code",
   "execution_count": 10,
   "metadata": {
    "collapsed": false,
    "scrolled": true
   },
   "outputs": [
    {
     "data": {
      "text/plain": [
       "(118304, 8)"
      ]
     },
     "execution_count": 10,
     "metadata": {},
     "output_type": "execute_result"
    }
   ],
   "source": [
    "user_repos.shape"
   ]
  },
  {
   "cell_type": "code",
   "execution_count": 11,
   "metadata": {
    "collapsed": false,
    "scrolled": true
   },
   "outputs": [],
   "source": [
    "user_repo_score = user_repos.drop([\"watchers\",\"forks\", \"followers\",\"following\",\"fork\"], axis = 1)"
   ]
  },
  {
   "cell_type": "code",
   "execution_count": 12,
   "metadata": {
    "collapsed": false,
    "scrolled": true
   },
   "outputs": [
    {
     "data": {
      "text/html": [
       "<div style=\"max-height:1000px;max-width:1500px;overflow:auto;\">\n",
       "<table border=\"1\" class=\"dataframe\">\n",
       "  <thead>\n",
       "    <tr style=\"text-align: right;\">\n",
       "      <th></th>\n",
       "      <th>login</th>\n",
       "      <th>full_name</th>\n",
       "      <th>bias_score</th>\n",
       "    </tr>\n",
       "  </thead>\n",
       "  <tbody>\n",
       "    <tr>\n",
       "      <th>0</th>\n",
       "      <td>00010011</td>\n",
       "      <td>00010011/x</td>\n",
       "      <td>1.011279</td>\n",
       "    </tr>\n",
       "    <tr>\n",
       "      <th>1</th>\n",
       "      <td>00010011</td>\n",
       "      <td>00010011/landslide</td>\n",
       "      <td>0.002277</td>\n",
       "    </tr>\n",
       "    <tr>\n",
       "      <th>2</th>\n",
       "      <td>00010011</td>\n",
       "      <td>00010011/sundown</td>\n",
       "      <td>0.001649</td>\n",
       "    </tr>\n",
       "    <tr>\n",
       "      <th>3</th>\n",
       "      <td>00010011</td>\n",
       "      <td>00010011/python-markdown-extra</td>\n",
       "      <td>1.001620</td>\n",
       "    </tr>\n",
       "    <tr>\n",
       "      <th>4</th>\n",
       "      <td>01org</td>\n",
       "      <td>01org/graphbuilder</td>\n",
       "      <td>1.002045</td>\n",
       "    </tr>\n",
       "  </tbody>\n",
       "</table>\n",
       "</div>"
      ],
      "text/plain": [
       "      login                       full_name  bias_score\n",
       "0  00010011                      00010011/x    1.011279\n",
       "1  00010011              00010011/landslide    0.002277\n",
       "2  00010011                00010011/sundown    0.001649\n",
       "3  00010011  00010011/python-markdown-extra    1.001620\n",
       "4     01org              01org/graphbuilder    1.002045"
      ]
     },
     "execution_count": 12,
     "metadata": {},
     "output_type": "execute_result"
    }
   ],
   "source": [
    "user_repo_score.head()"
   ]
  },
  {
   "cell_type": "code",
   "execution_count": 13,
   "metadata": {
    "collapsed": true,
    "scrolled": true
   },
   "outputs": [],
   "source": [
    "user_index = pd.read_csv(\"../Dataset/small/user_index_small.csv\")\n",
    "user_index.columns=[\"index_x\", \"login\"]"
   ]
  },
  {
   "cell_type": "code",
   "execution_count": 14,
   "metadata": {
    "collapsed": false,
    "scrolled": true
   },
   "outputs": [
    {
     "data": {
      "text/html": [
       "<div style=\"max-height:1000px;max-width:1500px;overflow:auto;\">\n",
       "<table border=\"1\" class=\"dataframe\">\n",
       "  <thead>\n",
       "    <tr style=\"text-align: right;\">\n",
       "      <th></th>\n",
       "      <th>index_x</th>\n",
       "      <th>login</th>\n",
       "    </tr>\n",
       "  </thead>\n",
       "  <tbody>\n",
       "    <tr>\n",
       "      <th>12260</th>\n",
       "      <td>12260</td>\n",
       "      <td>zynga</td>\n",
       "    </tr>\n",
       "    <tr>\n",
       "      <th>12261</th>\n",
       "      <td>12261</td>\n",
       "      <td>zythum</td>\n",
       "    </tr>\n",
       "    <tr>\n",
       "      <th>12262</th>\n",
       "      <td>12262</td>\n",
       "      <td>zz85</td>\n",
       "    </tr>\n",
       "    <tr>\n",
       "      <th>12263</th>\n",
       "      <td>12263</td>\n",
       "      <td>zzdhidden</td>\n",
       "    </tr>\n",
       "    <tr>\n",
       "      <th>12264</th>\n",
       "      <td>12264</td>\n",
       "      <td>zznate</td>\n",
       "    </tr>\n",
       "  </tbody>\n",
       "</table>\n",
       "</div>"
      ],
      "text/plain": [
       "       index_x      login\n",
       "12260    12260      zynga\n",
       "12261    12261     zythum\n",
       "12262    12262       zz85\n",
       "12263    12263  zzdhidden\n",
       "12264    12264     zznate"
      ]
     },
     "execution_count": 14,
     "metadata": {},
     "output_type": "execute_result"
    }
   ],
   "source": [
    "user_index.tail()"
   ]
  },
  {
   "cell_type": "code",
   "execution_count": 15,
   "metadata": {
    "collapsed": false,
    "scrolled": true
   },
   "outputs": [],
   "source": [
    "user_repo_score = pd.merge(user_repo_score, user_index, on=\"login\")"
   ]
  },
  {
   "cell_type": "code",
   "execution_count": 16,
   "metadata": {
    "collapsed": false,
    "scrolled": true
   },
   "outputs": [
    {
     "data": {
      "text/html": [
       "<div style=\"max-height:1000px;max-width:1500px;overflow:auto;\">\n",
       "<table border=\"1\" class=\"dataframe\">\n",
       "  <thead>\n",
       "    <tr style=\"text-align: right;\">\n",
       "      <th></th>\n",
       "      <th>login</th>\n",
       "      <th>full_name</th>\n",
       "      <th>bias_score</th>\n",
       "      <th>index_x</th>\n",
       "    </tr>\n",
       "  </thead>\n",
       "  <tbody>\n",
       "    <tr>\n",
       "      <th>0</th>\n",
       "      <td>00010011</td>\n",
       "      <td>00010011/x</td>\n",
       "      <td>1.011279</td>\n",
       "      <td>0</td>\n",
       "    </tr>\n",
       "    <tr>\n",
       "      <th>1</th>\n",
       "      <td>00010011</td>\n",
       "      <td>00010011/landslide</td>\n",
       "      <td>0.002277</td>\n",
       "      <td>0</td>\n",
       "    </tr>\n",
       "    <tr>\n",
       "      <th>2</th>\n",
       "      <td>00010011</td>\n",
       "      <td>00010011/sundown</td>\n",
       "      <td>0.001649</td>\n",
       "      <td>0</td>\n",
       "    </tr>\n",
       "    <tr>\n",
       "      <th>3</th>\n",
       "      <td>00010011</td>\n",
       "      <td>00010011/python-markdown-extra</td>\n",
       "      <td>1.001620</td>\n",
       "      <td>0</td>\n",
       "    </tr>\n",
       "    <tr>\n",
       "      <th>4</th>\n",
       "      <td>01org</td>\n",
       "      <td>01org/graphbuilder</td>\n",
       "      <td>1.002045</td>\n",
       "      <td>1</td>\n",
       "    </tr>\n",
       "  </tbody>\n",
       "</table>\n",
       "</div>"
      ],
      "text/plain": [
       "      login                       full_name  bias_score  index_x\n",
       "0  00010011                      00010011/x    1.011279        0\n",
       "1  00010011              00010011/landslide    0.002277        0\n",
       "2  00010011                00010011/sundown    0.001649        0\n",
       "3  00010011  00010011/python-markdown-extra    1.001620        0\n",
       "4     01org              01org/graphbuilder    1.002045        1"
      ]
     },
     "execution_count": 16,
     "metadata": {},
     "output_type": "execute_result"
    }
   ],
   "source": [
    "user_repo_score.head()"
   ]
  },
  {
   "cell_type": "code",
   "execution_count": 17,
   "metadata": {
    "collapsed": false,
    "scrolled": true
   },
   "outputs": [
    {
     "data": {
      "text/html": [
       "<div style=\"max-height:1000px;max-width:1500px;overflow:auto;\">\n",
       "<table border=\"1\" class=\"dataframe\">\n",
       "  <thead>\n",
       "    <tr style=\"text-align: right;\">\n",
       "      <th></th>\n",
       "      <th>login</th>\n",
       "      <th>full_name</th>\n",
       "      <th>bias_score</th>\n",
       "      <th>index_x</th>\n",
       "    </tr>\n",
       "  </thead>\n",
       "  <tbody>\n",
       "    <tr>\n",
       "      <th>118299</th>\n",
       "      <td>zznate</td>\n",
       "      <td>zznate/IronCount</td>\n",
       "      <td>0.002972</td>\n",
       "      <td>12264</td>\n",
       "    </tr>\n",
       "    <tr>\n",
       "      <th>118300</th>\n",
       "      <td>zznate</td>\n",
       "      <td>zznate/flume-cassandra-plugin</td>\n",
       "      <td>0.002972</td>\n",
       "      <td>12264</td>\n",
       "    </tr>\n",
       "    <tr>\n",
       "      <th>118301</th>\n",
       "      <td>zznate</td>\n",
       "      <td>zznate/metrics-spring</td>\n",
       "      <td>0.003075</td>\n",
       "      <td>12264</td>\n",
       "    </tr>\n",
       "    <tr>\n",
       "      <th>118302</th>\n",
       "      <td>zznate</td>\n",
       "      <td>zznate/astyanax</td>\n",
       "      <td>0.002943</td>\n",
       "      <td>12264</td>\n",
       "    </tr>\n",
       "    <tr>\n",
       "      <th>118303</th>\n",
       "      <td>zznate</td>\n",
       "      <td>zznate/java-driver</td>\n",
       "      <td>0.002943</td>\n",
       "      <td>12264</td>\n",
       "    </tr>\n",
       "  </tbody>\n",
       "</table>\n",
       "</div>"
      ],
      "text/plain": [
       "         login                      full_name  bias_score  index_x\n",
       "118299  zznate               zznate/IronCount    0.002972    12264\n",
       "118300  zznate  zznate/flume-cassandra-plugin    0.002972    12264\n",
       "118301  zznate          zznate/metrics-spring    0.003075    12264\n",
       "118302  zznate                zznate/astyanax    0.002943    12264\n",
       "118303  zznate             zznate/java-driver    0.002943    12264"
      ]
     },
     "execution_count": 17,
     "metadata": {},
     "output_type": "execute_result"
    }
   ],
   "source": [
    "user_repo_score.tail()"
   ]
  },
  {
   "cell_type": "code",
   "execution_count": 18,
   "metadata": {
    "collapsed": false,
    "scrolled": true
   },
   "outputs": [],
   "source": [
    "repo_index = pd.read_csv(\"../Dataset/small/repo_index_small.csv\")\n",
    "repo_index.columns = [\"index_y\",\"full_name\"]"
   ]
  },
  {
   "cell_type": "code",
   "execution_count": 19,
   "metadata": {
    "collapsed": false,
    "scrolled": true
   },
   "outputs": [
    {
     "data": {
      "text/html": [
       "<div style=\"max-height:1000px;max-width:1500px;overflow:auto;\">\n",
       "<table border=\"1\" class=\"dataframe\">\n",
       "  <thead>\n",
       "    <tr style=\"text-align: right;\">\n",
       "      <th></th>\n",
       "      <th>index_y</th>\n",
       "      <th>full_name</th>\n",
       "    </tr>\n",
       "  </thead>\n",
       "  <tbody>\n",
       "    <tr>\n",
       "      <th>0</th>\n",
       "      <td>0</td>\n",
       "      <td>00010011/x</td>\n",
       "    </tr>\n",
       "    <tr>\n",
       "      <th>1</th>\n",
       "      <td>1</td>\n",
       "      <td>00010011/landslide</td>\n",
       "    </tr>\n",
       "    <tr>\n",
       "      <th>2</th>\n",
       "      <td>2</td>\n",
       "      <td>00010011/sundown</td>\n",
       "    </tr>\n",
       "    <tr>\n",
       "      <th>3</th>\n",
       "      <td>3</td>\n",
       "      <td>00010011/python-markdown-extra</td>\n",
       "    </tr>\n",
       "    <tr>\n",
       "      <th>4</th>\n",
       "      <td>4</td>\n",
       "      <td>01org/graphbuilder</td>\n",
       "    </tr>\n",
       "  </tbody>\n",
       "</table>\n",
       "</div>"
      ],
      "text/plain": [
       "   index_y                       full_name\n",
       "0        0                      00010011/x\n",
       "1        1              00010011/landslide\n",
       "2        2                00010011/sundown\n",
       "3        3  00010011/python-markdown-extra\n",
       "4        4              01org/graphbuilder"
      ]
     },
     "execution_count": 19,
     "metadata": {},
     "output_type": "execute_result"
    }
   ],
   "source": [
    "repo_index.head()"
   ]
  },
  {
   "cell_type": "code",
   "execution_count": 20,
   "metadata": {
    "collapsed": false,
    "scrolled": true
   },
   "outputs": [],
   "source": [
    "user_repo_score = pd.merge(user_repo_score, repo_index, on=\"full_name\")"
   ]
  },
  {
   "cell_type": "code",
   "execution_count": 21,
   "metadata": {
    "collapsed": false,
    "scrolled": true
   },
   "outputs": [
    {
     "data": {
      "text/html": [
       "<div style=\"max-height:1000px;max-width:1500px;overflow:auto;\">\n",
       "<table border=\"1\" class=\"dataframe\">\n",
       "  <thead>\n",
       "    <tr style=\"text-align: right;\">\n",
       "      <th></th>\n",
       "      <th>login</th>\n",
       "      <th>full_name</th>\n",
       "      <th>bias_score</th>\n",
       "      <th>index_x</th>\n",
       "      <th>index_y</th>\n",
       "    </tr>\n",
       "  </thead>\n",
       "  <tbody>\n",
       "    <tr>\n",
       "      <th>118299</th>\n",
       "      <td>zznate</td>\n",
       "      <td>zznate/IronCount</td>\n",
       "      <td>0.002972</td>\n",
       "      <td>12264</td>\n",
       "      <td>118299</td>\n",
       "    </tr>\n",
       "    <tr>\n",
       "      <th>118300</th>\n",
       "      <td>zznate</td>\n",
       "      <td>zznate/flume-cassandra-plugin</td>\n",
       "      <td>0.002972</td>\n",
       "      <td>12264</td>\n",
       "      <td>118300</td>\n",
       "    </tr>\n",
       "    <tr>\n",
       "      <th>118301</th>\n",
       "      <td>zznate</td>\n",
       "      <td>zznate/metrics-spring</td>\n",
       "      <td>0.003075</td>\n",
       "      <td>12264</td>\n",
       "      <td>118301</td>\n",
       "    </tr>\n",
       "    <tr>\n",
       "      <th>118302</th>\n",
       "      <td>zznate</td>\n",
       "      <td>zznate/astyanax</td>\n",
       "      <td>0.002943</td>\n",
       "      <td>12264</td>\n",
       "      <td>118302</td>\n",
       "    </tr>\n",
       "    <tr>\n",
       "      <th>118303</th>\n",
       "      <td>zznate</td>\n",
       "      <td>zznate/java-driver</td>\n",
       "      <td>0.002943</td>\n",
       "      <td>12264</td>\n",
       "      <td>118303</td>\n",
       "    </tr>\n",
       "  </tbody>\n",
       "</table>\n",
       "</div>"
      ],
      "text/plain": [
       "         login                      full_name  bias_score  index_x  index_y\n",
       "118299  zznate               zznate/IronCount    0.002972    12264   118299\n",
       "118300  zznate  zznate/flume-cassandra-plugin    0.002972    12264   118300\n",
       "118301  zznate          zznate/metrics-spring    0.003075    12264   118301\n",
       "118302  zznate                zznate/astyanax    0.002943    12264   118302\n",
       "118303  zznate             zznate/java-driver    0.002943    12264   118303"
      ]
     },
     "execution_count": 21,
     "metadata": {},
     "output_type": "execute_result"
    }
   ],
   "source": [
    "user_repo_score.tail()"
   ]
  },
  {
   "cell_type": "code",
   "execution_count": 98,
   "metadata": {
    "collapsed": true,
    "scrolled": true
   },
   "outputs": [],
   "source": [
    "user_repo_ratings = user_repo_score.copy()"
   ]
  },
  {
   "cell_type": "code",
   "execution_count": 99,
   "metadata": {
    "collapsed": false,
    "scrolled": true
   },
   "outputs": [
    {
     "data": {
      "text/html": [
       "<div style=\"max-height:1000px;max-width:1500px;overflow:auto;\">\n",
       "<table border=\"1\" class=\"dataframe\">\n",
       "  <thead>\n",
       "    <tr style=\"text-align: right;\">\n",
       "      <th></th>\n",
       "      <th>login</th>\n",
       "      <th>full_name</th>\n",
       "      <th>bias_score</th>\n",
       "      <th>index_x</th>\n",
       "      <th>index_y</th>\n",
       "    </tr>\n",
       "  </thead>\n",
       "  <tbody>\n",
       "    <tr>\n",
       "      <th>0</th>\n",
       "      <td>00010011</td>\n",
       "      <td>00010011/x</td>\n",
       "      <td>1.011279</td>\n",
       "      <td>0</td>\n",
       "      <td>0</td>\n",
       "    </tr>\n",
       "    <tr>\n",
       "      <th>1</th>\n",
       "      <td>00010011</td>\n",
       "      <td>00010011/landslide</td>\n",
       "      <td>0.002277</td>\n",
       "      <td>0</td>\n",
       "      <td>1</td>\n",
       "    </tr>\n",
       "    <tr>\n",
       "      <th>2</th>\n",
       "      <td>00010011</td>\n",
       "      <td>00010011/sundown</td>\n",
       "      <td>0.001649</td>\n",
       "      <td>0</td>\n",
       "      <td>2</td>\n",
       "    </tr>\n",
       "    <tr>\n",
       "      <th>3</th>\n",
       "      <td>00010011</td>\n",
       "      <td>00010011/python-markdown-extra</td>\n",
       "      <td>1.001620</td>\n",
       "      <td>0</td>\n",
       "      <td>3</td>\n",
       "    </tr>\n",
       "    <tr>\n",
       "      <th>4</th>\n",
       "      <td>01org</td>\n",
       "      <td>01org/graphbuilder</td>\n",
       "      <td>1.002045</td>\n",
       "      <td>1</td>\n",
       "      <td>4</td>\n",
       "    </tr>\n",
       "  </tbody>\n",
       "</table>\n",
       "</div>"
      ],
      "text/plain": [
       "      login                       full_name  bias_score  index_x  index_y\n",
       "0  00010011                      00010011/x    1.011279        0        0\n",
       "1  00010011              00010011/landslide    0.002277        0        1\n",
       "2  00010011                00010011/sundown    0.001649        0        2\n",
       "3  00010011  00010011/python-markdown-extra    1.001620        0        3\n",
       "4     01org              01org/graphbuilder    1.002045        1        4"
      ]
     },
     "execution_count": 99,
     "metadata": {},
     "output_type": "execute_result"
    }
   ],
   "source": [
    "user_repo_ratings.head()"
   ]
  },
  {
   "cell_type": "code",
   "execution_count": 100,
   "metadata": {
    "collapsed": true,
    "scrolled": true
   },
   "outputs": [],
   "source": [
    "user_repo_ratings[\"rating\"] = 0"
   ]
  },
  {
   "cell_type": "code",
   "execution_count": 101,
   "metadata": {
    "collapsed": false,
    "scrolled": true
   },
   "outputs": [
    {
     "data": {
      "text/html": [
       "<div style=\"max-height:1000px;max-width:1500px;overflow:auto;\">\n",
       "<table border=\"1\" class=\"dataframe\">\n",
       "  <thead>\n",
       "    <tr style=\"text-align: right;\">\n",
       "      <th></th>\n",
       "      <th>login</th>\n",
       "      <th>full_name</th>\n",
       "      <th>bias_score</th>\n",
       "      <th>index_x</th>\n",
       "      <th>index_y</th>\n",
       "      <th>rating</th>\n",
       "    </tr>\n",
       "  </thead>\n",
       "  <tbody>\n",
       "    <tr>\n",
       "      <th>0</th>\n",
       "      <td>00010011</td>\n",
       "      <td>00010011/x</td>\n",
       "      <td>1.011279</td>\n",
       "      <td>0</td>\n",
       "      <td>0</td>\n",
       "      <td>0</td>\n",
       "    </tr>\n",
       "    <tr>\n",
       "      <th>1</th>\n",
       "      <td>00010011</td>\n",
       "      <td>00010011/landslide</td>\n",
       "      <td>0.002277</td>\n",
       "      <td>0</td>\n",
       "      <td>1</td>\n",
       "      <td>0</td>\n",
       "    </tr>\n",
       "    <tr>\n",
       "      <th>2</th>\n",
       "      <td>00010011</td>\n",
       "      <td>00010011/sundown</td>\n",
       "      <td>0.001649</td>\n",
       "      <td>0</td>\n",
       "      <td>2</td>\n",
       "      <td>0</td>\n",
       "    </tr>\n",
       "    <tr>\n",
       "      <th>3</th>\n",
       "      <td>00010011</td>\n",
       "      <td>00010011/python-markdown-extra</td>\n",
       "      <td>1.001620</td>\n",
       "      <td>0</td>\n",
       "      <td>3</td>\n",
       "      <td>0</td>\n",
       "    </tr>\n",
       "    <tr>\n",
       "      <th>4</th>\n",
       "      <td>01org</td>\n",
       "      <td>01org/graphbuilder</td>\n",
       "      <td>1.002045</td>\n",
       "      <td>1</td>\n",
       "      <td>4</td>\n",
       "      <td>0</td>\n",
       "    </tr>\n",
       "  </tbody>\n",
       "</table>\n",
       "</div>"
      ],
      "text/plain": [
       "      login                       full_name  bias_score  index_x  index_y  \\\n",
       "0  00010011                      00010011/x    1.011279        0        0   \n",
       "1  00010011              00010011/landslide    0.002277        0        1   \n",
       "2  00010011                00010011/sundown    0.001649        0        2   \n",
       "3  00010011  00010011/python-markdown-extra    1.001620        0        3   \n",
       "4     01org              01org/graphbuilder    1.002045        1        4   \n",
       "\n",
       "   rating  \n",
       "0       0  \n",
       "1       0  \n",
       "2       0  \n",
       "3       0  \n",
       "4       0  "
      ]
     },
     "execution_count": 101,
     "metadata": {},
     "output_type": "execute_result"
    }
   ],
   "source": [
    "user_repo_ratings.head()"
   ]
  },
  {
   "cell_type": "code",
   "execution_count": 102,
   "metadata": {
    "collapsed": false,
    "scrolled": true
   },
   "outputs": [
    {
     "name": "stdout",
     "output_type": "stream",
     "text": [
      "Processing file = /media/kodekracker/Dell USB Portable HDD/Dataset/rating_output/part-00000\n",
      "Processing file = /media/kodekracker/Dell USB Portable HDD/Dataset/rating_output/part-00001\n",
      "Processing file = /media/kodekracker/Dell USB Portable HDD/Dataset/rating_output/part-00002\n",
      "Processing file = /media/kodekracker/Dell USB Portable HDD/Dataset/rating_output/part-00003\n",
      "Processing file = /media/kodekracker/Dell USB Portable HDD/Dataset/rating_output/part-00004\n",
      "Processing file = /media/kodekracker/Dell USB Portable HDD/Dataset/rating_output/part-00005\n",
      "Processing file = /media/kodekracker/Dell USB Portable HDD/Dataset/rating_output/part-00006\n",
      "Processing file = /media/kodekracker/Dell USB Portable HDD/Dataset/rating_output/part-00007\n",
      "Processing file = /media/kodekracker/Dell USB Portable HDD/Dataset/rating_output/part-00008\n",
      "Processing file = /media/kodekracker/Dell USB Portable HDD/Dataset/rating_output/part-00009\n",
      "Processing file = /media/kodekracker/Dell USB Portable HDD/Dataset/rating_output/part-00010\n",
      "Processing file = /media/kodekracker/Dell USB Portable HDD/Dataset/rating_output/part-00011\n",
      "Processing file = /media/kodekracker/Dell USB Portable HDD/Dataset/rating_output/part-00012\n",
      "Processing file = /media/kodekracker/Dell USB Portable HDD/Dataset/rating_output/part-00013\n",
      "Processing file = /media/kodekracker/Dell USB Portable HDD/Dataset/rating_output/part-00014\n",
      "Processing file = /media/kodekracker/Dell USB Portable HDD/Dataset/rating_output/part-00015\n",
      "Processing file = /media/kodekracker/Dell USB Portable HDD/Dataset/rating_output/part-00016\n",
      "Processing file = /media/kodekracker/Dell USB Portable HDD/Dataset/rating_output/part-00017\n",
      "Processing file = /media/kodekracker/Dell USB Portable HDD/Dataset/rating_output/part-00018\n",
      "Processing file = /media/kodekracker/Dell USB Portable HDD/Dataset/rating_output/part-00019\n",
      "Processing file = /media/kodekracker/Dell USB Portable HDD/Dataset/rating_output/part-00020\n",
      "Processing file = /media/kodekracker/Dell USB Portable HDD/Dataset/rating_output/part-00021\n",
      "Processing file = /media/kodekracker/Dell USB Portable HDD/Dataset/rating_output/part-00022\n",
      "Processing file = /media/kodekracker/Dell USB Portable HDD/Dataset/rating_output/part-00023\n",
      "Processing file = /media/kodekracker/Dell USB Portable HDD/Dataset/rating_output/part-00024\n",
      "Processing file = /media/kodekracker/Dell USB Portable HDD/Dataset/rating_output/part-00025\n",
      "Processing file = /media/kodekracker/Dell USB Portable HDD/Dataset/rating_output/part-00026\n",
      "Processing file = /media/kodekracker/Dell USB Portable HDD/Dataset/rating_output/part-00027\n",
      "Processing file = /media/kodekracker/Dell USB Portable HDD/Dataset/rating_output/part-00028\n",
      "Processing file = /media/kodekracker/Dell USB Portable HDD/Dataset/rating_output/part-00029\n",
      "Processing file = /media/kodekracker/Dell USB Portable HDD/Dataset/rating_output/part-00030\n",
      "Processing file = /media/kodekracker/Dell USB Portable HDD/Dataset/rating_output/part-00031\n",
      "Processing file = /media/kodekracker/Dell USB Portable HDD/Dataset/rating_output/part-00032\n",
      "Processing file = /media/kodekracker/Dell USB Portable HDD/Dataset/rating_output/part-00033\n",
      "Processing file = /media/kodekracker/Dell USB Portable HDD/Dataset/rating_output/part-00034\n",
      "Processing file = /media/kodekracker/Dell USB Portable HDD/Dataset/rating_output/part-00035\n",
      "Processing file = /media/kodekracker/Dell USB Portable HDD/Dataset/rating_output/part-00036\n",
      "Processing file = /media/kodekracker/Dell USB Portable HDD/Dataset/rating_output/part-00037\n",
      "Processing file = /media/kodekracker/Dell USB Portable HDD/Dataset/rating_output/part-00038\n",
      "Processing file = /media/kodekracker/Dell USB Portable HDD/Dataset/rating_output/part-00039\n",
      "Processing file = /media/kodekracker/Dell USB Portable HDD/Dataset/rating_output/part-00040\n",
      "Processing file = /media/kodekracker/Dell USB Portable HDD/Dataset/rating_output/part-00041\n"
     ]
    }
   ],
   "source": [
    "for i in range(0,42):\n",
    "    filename = \"/media/kodekracker/Dell USB Portable HDD/Dataset/rating_output/part-000\"+format(i, '02')\n",
    "    print \"Processing file = %s\"%(filename)\n",
    "    ratings = pd.read_csv(filename, names=[\"index_x\", \"index_y\", \"rating\"])\n",
    "    user_repo_ratings = pd.merge(user_repo_ratings, ratings, how=\"left\", on=[\"index_x\",\"index_y\"])\n",
    "    user_repo_ratings[\"rating\"] = user_repo_ratings.rating_x.fillna(0) + user_repo_ratings.rating_y.fillna(0)\n",
    "    user_repo_ratings.drop([\"rating_x\",\"rating_y\"], axis=1, inplace= True)"
   ]
  },
  {
   "cell_type": "code",
   "execution_count": 103,
   "metadata": {
    "collapsed": false
   },
   "outputs": [
    {
     "data": {
      "text/plain": [
       "(959707, 3)"
      ]
     },
     "execution_count": 103,
     "metadata": {},
     "output_type": "execute_result"
    }
   ],
   "source": [
    "ratings.shape"
   ]
  },
  {
   "cell_type": "code",
   "execution_count": 106,
   "metadata": {
    "collapsed": false,
    "scrolled": true
   },
   "outputs": [
    {
     "data": {
      "text/plain": [
       "(0, 6)"
      ]
     },
     "execution_count": 106,
     "metadata": {},
     "output_type": "execute_result"
    }
   ],
   "source": [
    "user_repo_ratings[ user_repo_ratings.rating ==0].shape"
   ]
  },
  {
   "cell_type": "code",
   "execution_count": null,
   "metadata": {
    "collapsed": true
   },
   "outputs": [],
   "source": [
    "user_repo_ratings['bias_score'] = np.round(user_repo_ratings['bias_score'], 5)"
   ]
  },
  {
   "cell_type": "code",
   "execution_count": 110,
   "metadata": {
    "collapsed": false
   },
   "outputs": [],
   "source": [
    "user_repo_ratings.to_csv(\"user_repo_ratings_small.csv\", index = False)"
   ]
  }
 ],
 "metadata": {
  "kernelspec": {
   "display_name": "Python 2",
   "language": "python",
   "name": "python2"
  },
  "language_info": {
   "codemirror_mode": {
    "name": "ipython",
    "version": 2
   },
   "file_extension": ".py",
   "mimetype": "text/x-python",
   "name": "python",
   "nbconvert_exporter": "python",
   "pygments_lexer": "ipython2",
   "version": "2.7.9"
  }
 },
 "nbformat": 4,
 "nbformat_minor": 0
}
